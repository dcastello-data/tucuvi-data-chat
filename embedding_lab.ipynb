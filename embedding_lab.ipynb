{
 "cells": [
  {
   "cell_type": "code",
   "execution_count": 22,
   "metadata": {},
   "outputs": [],
   "source": [
    "from pinecone import Pinecone, ServerlessSpec\n",
    "import re\n",
    "from dotenv import load_dotenv\n",
    "import os\n",
    "\n",
    "# Load environment variables\n",
    "load_dotenv()\n",
    "pinecone_api_key = os.getenv(\"PINECONE_API_KEY\")\n",
    "\n",
    "# Initialize Pinecone client\n",
    "pc = Pinecone(api_key=pinecone_api_key)\n",
    "\n",
    "# Index configuration\n",
    "INDEX_NAME = \"knowledge-base\"\n",
    "NAMESPACE = \"markdown_chunks\"\n",
    "DIMENSION = 1024  # Dimension for multilingual-e5-large\n",
    "PINECONE_CLOUD = \"aws\"  # Replace with your cloud provider\n",
    "PINECONE_REGION = \"us-east-1\"  # Replace with your region"
   ]
  },
  {
   "cell_type": "code",
   "execution_count": 30,
   "metadata": {},
   "outputs": [],
   "source": [
    "def determine_file_type(prompt):\n",
    "    \"\"\"\n",
    "    Determines the metadata file type based on the user's input.\n",
    "    \"\"\"\n",
    "    if prompt.startswith(\"/tech\"):\n",
    "        cleaned_prompt = prompt.replace(\"/technical\", \"\").strip()\n",
    "        return \"tucuvi_data_technical.md\", cleaned_prompt\n",
    "    else:\n",
    "        # Default to organizational data\n",
    "        return \"tucuvi_data_organizational.md\", prompt\n",
    "\n",
    "\n",
    "def query_knowledge_base(index, user_input):\n",
    "\n",
    "    # Step 1: Determine file type based on input\n",
    "    file_type, query = determine_file_type(user_input)\n",
    "\n",
    "    # Step 2: Embed the query\n",
    "    embeddings = pc.inference.embed(\n",
    "        model=\"multilingual-e5-large\",\n",
    "        inputs=[query],\n",
    "        parameters={\"input_type\": \"passage\"}\n",
    "    )\n",
    "    query_embedding = embeddings[0][\"values\"]  # Extract the vector for querying\n",
    "\n",
    "    # Step 3: Query Pinecone with appropriate file type\n",
    "    sample = index.query(\n",
    "        vector=query_embedding,\n",
    "        namespace=NAMESPACE,\n",
    "        top_k=3,\n",
    "        include_values=False,\n",
    "        include_metadata=True,\n",
    "        filter={\"file\": file_type}  # Use the determined file type as a filter\n",
    "    )\n",
    "\n",
    "    # Step 4: Process results\n",
    "    matches = sample.get(\"matches\", [])\n",
    "    if matches:\n",
    "        for match in matches:\n",
    "            metadata = match.get(\"metadata\", {})\n",
    "            full_text = metadata.get(\"text\", \"\")\n",
    "            print(\"Full Text:\")\n",
    "            print(full_text)\n",
    "    else:\n",
    "        print(\"No matches found.\")"
   ]
  },
  {
   "cell_type": "code",
   "execution_count": 27,
   "metadata": {},
   "outputs": [
    {
     "name": "stdout",
     "output_type": "stream",
     "text": [
      "Match Metadata: {'file': 'tucuvi_data_technical.md', 'section': '# Dataset: `tucuvi_data`', 'text': '# Dataset: `tucuvi_data`\\n\\nThe `tucuvi_data` dataset stores domain events related to core operational entities such as **conversations, calls, patients, and practitioners**.\\n\\n### ETL-Populated Tables\\n\\nThese tables are populated through the **Domain Events Transformer** (Cloud Run function `domain-event-transformers`):\\n\\n- `actions`\\n- `alerts`\\n- `calls`\\n- `care_plans`\\n- `clinical_notes`\\n- `comments`\\n- `conversations`\\n- `patients`\\n- `phone_visit_summaries`\\n- `phone_visits`\\n- `practitioners`\\n\\n### Firestore-Synchronized Tables\\n\\nThese tables are populated by the **Tucuvi Data Quality** pipeline (Cloud Run function `domain-event-tucuvi_data_quality`), executed daily:\\n\\n- `conversations_classification`\\n- `origins`\\n- `protocols`\\n- `protocols_display`\\n- `sms`\\n- `work_units`'}\n",
      "Match Metadata: {'file': 'tucuvi_data_technical.md', 'section': '# Pipelines: Tucuvi Data', 'text': \"# Pipelines: Tucuvi Data\\n\\n- `tucuvi_data_pipeline_workspace`: Processes data to generate report ready tables for all operational and clinical metrics.\\n    - Source tables directly loaded from BQ:\\n        - from `tucuvi_data` dataset:\\n            - `actions`\\n            - `alerts`\\n            - `calls`\\n            - `care_plans`\\n            - `clinical_notes`\\n            - `comments`\\n            - `conversations`\\n            - `patients`\\n            - `phone_visit_summaries`\\n            - `phone_visits`\\n            - `practitioners`\\n            - `conversations_classification`\\n            - `origins`\\n            - `protocols`\\n            - `protocols_display`\\n            - `sms`\\n            - `work_units`\\n        - from `dataform_iterations_reporting` dataset:\\n            - `dim_iterations`\\n            - `dim_flows`\\n    - Staging tables at `dataform` dataset:\\n        - `assertion_conversations_unanswered` : returns unanswered conversations with less than 4 call attempts.\\n        - `protocol_entities` : This table is used to define **entities** that should be stored in conversations. Each protocol specifies a list of flows from which entities will be extracted. Conversations associated with the protocol will store these entities for the selected flows.\\n        \\n        ```sql\\n        -- Selecting the entities in staging/protocol entities\\n        \\n        SELECT\\n          'Gestión de demanda: Valencia' AS protocol_name, # Protocol\\n          ['asksip', 'sipready', 'callreason'] AS extract_entities # Flows to extract\\n        ```\\n        \\n        ```sql\\n        \\n        -- For the selected protocols\\n        -- Entities structured in analytics/dim_conversations_entities.sqlx\\n        SELECT\\n          conversation_id,\\n          work_unit_id,\\n          protocol_name,\\n          ARRAY_AGG(\\n            STRUCT(\\n              parent_flow AS parent_flow,\\n              entity_names_array AS entity_names_array,\\n              str_entity_values_array AS str_entity_values_array\\n            )\\n          ) AS entity\\n        FROM parent_flow_aggregates\\n        GROUP BY\\n          conversation_id,\\n          work_unit_id,\\n          protocol_name\\n        ```\\n        \\n        - `protocol_objectives`: This table defines the **display flows** (objectives) that should be stored in conversations. Similar to `protocol_entities`, it allows for selecting specific protocols and their relevant objectives.\\n        \\n        ```sql\\n        -- Selecting the entities in staging/protocol entities\\n        \\n        SELECT\\n          'Seguimiento CPAP ECOSTAR' AS protocol_name, -- Protocol\\n          ['Horas de uso por noche', 'Horas de la turbina'] AS objectives -- Objectives to store\\n        UNION ALL\\n        SELECT\\n          'Adherencia CPAP' AS protocol_name, -- Protocol\\n          ['Horas de\"}\n",
      "Match Metadata: {'file': 'tucuvi_data_technical.md', 'section': '# Tucuvi Data Quality', 'text': '**:\\n    - `is_answered`\\n    - `is_completed`\\n    - `is_HCP_reviewed`\\n    - `total_alerts`\\n\\n### **Calls**\\n\\n- **Purpose**: Verifies future scheduled calls match between Firestore and BigQuery.\\n- **Field Comparison**:\\n    - `next_call_at`\\n\\n### **Patients**\\n\\n- **Purpose**: Ensures all patient records are present in BigQuery and checks for status alignment.\\n- **Field Comparison**:\\n    - `status`\\n\\n## Logging and Monitoring\\n\\n- **Logging**: Each operation logs progress and results for debugging. Logs include confirmation messages after updates and discrepancies identified during health checks.\\n- **Notifications**: A daily email summary of results is sent to:\\n    - [d.castello@tucuvi.com](mailto:d.castello@tucuvi.com)\\n    - [marcos@tucuvi.com](mailto:marcos@tucuvi.com)\\n\\nThis ensures transparency, efficient monitoring, and rapid issue resolution.'}\n"
     ]
    }
   ],
   "source": [
    "index = index = pc.Index(INDEX_NAME)\n",
    "# Step 2: Embed the query\n",
    "embeddings = pc.inference.embed(\n",
    "    model=\"multilingual-e5-large\",\n",
    "    inputs=[\"What is a phone visit?\"],\n",
    "    parameters={\"input_type\": \"passage\"}\n",
    ")\n",
    "query_embedding = embeddings[0][\"values\"]  # Extract the vector for querying\n",
    "\n",
    "sample = index.query(\n",
    "    vector=query_embedding,\n",
    "    namespace=NAMESPACE,\n",
    "    top_k=3,\n",
    "    include_values=False,\n",
    "    include_metadata=True,\n",
    "    filter={\"file\": \"tucuvi_data_technical.md\"}\n",
    ")\n",
    "\n",
    "for match in sample.get(\"matches\", []):\n",
    "    print(\"Match Metadata:\", match[\"metadata\"])"
   ]
  },
  {
   "cell_type": "code",
   "execution_count": 35,
   "metadata": {},
   "outputs": [
    {
     "name": "stdout",
     "output_type": "stream",
     "text": [
      "Full Text:\n",
      "6a-4a6d-9b60-66ea49b75b09/page/RmQ4D) | Dashboard tracking the use of the following Tucuvi Dashboard features: Care plans, Phone Visits and Clinical notes. The dashboard shows data for all clients and projects, and allows segregating. | November 22, 2024 |\n",
      "    | SMS analysis | [https://lookerstudio.google.com/reporting/24597db6-3b5c-4aa3-b65a-5e30ed7e81a2/page/haqFE/edit](https://lookerstudio.google.com/reporting/24597db6-3b5c-4aa3-b65a-5e30ed7e81a2/page/haqFE/edit) | [https://lookerstudio.google.com/embed/reporting/24597db6-3b5c-4aa3-b65a-5e30ed7e81a2/page/haqFE/edit](https://lookerstudio.google.com/embed/reporting/24597db6-3b5c-4aa3-b65a-5e30ed7e81a2/page/haqFE/edit) | This dashboard tracks the SMS notifications sent in all projects, and has metrics to asses the impact of SMS notifications on reach and engagement. |  |\n",
      "Full Text:\n",
      "reporting/da65b5f1-56ad-47d3-86f7-083e90714f2d/page/p_lpkoccdzfd) | Used to retrieve historical data at Tucuvi. Aggregated for all clients, and allows segregation per client and work unit. Mainly used for reporting purposes, for public comms, investors, etc. Sections:\n",
      "• Activity and patients: View all operational metrics in terms of volume of LOLA’s activity, reach, engagement, patients called, minutes on the phone.\n",
      "• Clinical expertise: Shows volume activity of LOLA segregated per clinical areas (Patient Care Pathways, Specialties and Care delivery phases), to prove where LOLA is an expert. It also shows data for the number of manually reviewed follow-ups, which are used for training and make LOLA smarter.\n",
      "• Alerts and actions: Visualize all time metrics for the number of alerts detected by LOLA and the number of actions registered in TD. What are the most frequent alerts? And the most frequent actions?\n",
      "• Feedback: Data on all feedbcak LOLA has collected, including Customer Satisfaction Surveys (CSAT), and Net Promoter Score (NPS) surveys. | October 24, 2024 |\n",
      "| Tucuvi Data Newsletter | [https://lookerstudio.google.com/reporting/ab42de5a-27d0-4b6e-852e-8fb21da6ed53/page/8GjWE/edit](https://lookerstudio.google.com/reporting/ab42de5a-27d0-4b6e-852e-8fb21da6ed53/page/8GjWE/edit) | [https://lookerstudio.google.com/embed/reporting/ab42de5a-27d0-4b6e-852e-8fb21da6ed53/page/8GjWE](https://lookerstudio.google.com/embed/reporting/ab42de5a-27d0-4b6e-852e-8fb21da6ed53/page/8GjWE) | A weekly internal newsletter showcasing growth metrics, including active work units and THM users, with insights on weekly and monthly trends. | December 16, 2024 |\n",
      "Full Text:\n",
      "# Tucuvi Data\n",
      "\n",
      "Standard dashboards integrated by default in all clients that use Tucuvi Dashboard. These Looker Studio reports are dynamic using url parameters, so that they can be used for all clients.\n",
      "\n",
      "Here, clients visualize operational metrics in terms of volume, reach, engagement, patient metrics, clinical metrics related to actions and alerts, and professional use by HCPs.\n",
      "\n",
      "Find the spreadsheet https://docs.google.com/spreadsheets/d/1O_iMQZdJ9EHwG9xtDz6Y1o6rux__yhv6zwx42ZhdVBU/edit?gid=424255348#gid=424255348 centralizing all information and links for Tucuvi Data - Standard products. Note that Tucuvi Data - Standard only shows information segregated per work_unit_id. To view other aggregations, use a different dashboard or use Tucuvi Data V2 - INTERNAL USE.\n",
      "\n",
      "| Name | URL - Edit | URL - Embed | Description | Last update |\n",
      "| --- | --- | --- | --- | --- |\n",
      "| Tucuvi Data V2 - INTERNAL USE | [https://lookerstudio.google.com/u/0/reporting/eaabc5aa-81d5-4580-82a9-4b28c91b3705/page/p_fbl7b1gofd/edit](https://lookerstudio.google.com/u/0/reporting/eaabc5aa-81d5-4580-82a9-4b28c91b3705/page/p_fbl7b1gofd/edit) | [https://lookerstudio.google.com/u/0/embed/reporting/eaabc5aa-81d5-4580-82a9-4b28c91b3705/page/p_fbl7b1gofd/edit](https://lookerstudio.google.com/u/0/embed/reporting/eaabc5aa-81d5-4580-82a9-4b28c91b3705/page/p_fbl7b1gofd/edit) | Tucuvi Data - Standard dashboard centralizing data from all projects. It will use the standard dashboard that we use for all projects, but allowing aggregating different clients and work units. Suited to quickly check data for a group of work units/projects or debugging purposes. | October 1, 2024 |\n",
      "\n",
      "Tucuvi Data Manager will provide links to two demos: Sample Work Unit (in English) and Unidad de Muestra (in Spanish), which duplicate data from a selection of Work Units, applies masking, and creates synthetic work units that we can use for demos and shows.\n"
     ]
    }
   ],
   "source": [
    "index = index = pc.Index(INDEX_NAME)\n",
    "user_input = 'Number of calls in Tucuvi segregated per year'\n",
    "query_knowledge_base(index, user_input)"
   ]
  }
 ],
 "metadata": {
  "kernelspec": {
   "display_name": "daivid",
   "language": "python",
   "name": "python3"
  },
  "language_info": {
   "codemirror_mode": {
    "name": "ipython",
    "version": 3
   },
   "file_extension": ".py",
   "mimetype": "text/x-python",
   "name": "python",
   "nbconvert_exporter": "python",
   "pygments_lexer": "ipython3",
   "version": "3.12.1"
  }
 },
 "nbformat": 4,
 "nbformat_minor": 2
}
